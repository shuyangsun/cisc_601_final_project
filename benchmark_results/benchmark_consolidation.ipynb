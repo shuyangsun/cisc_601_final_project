{
 "cells": [
  {
   "cell_type": "code",
   "execution_count": 1,
   "metadata": {},
   "outputs": [],
   "source": [
    "from collections import defaultdict\n",
    "from typing import List\n",
    "\n",
    "import pandas as pd"
   ]
  },
  {
   "cell_type": "code",
   "execution_count": 2,
   "metadata": {},
   "outputs": [],
   "source": [
    "def read_lines(file_path: str) -> List[str]:\n",
    "    res = list()\n",
    "    with open(file_path, 'r') as in_file:\n",
    "        line = in_file.readline()\n",
    "        while line:\n",
    "            res.append(line)\n",
    "            line = in_file.readline()\n",
    "    return res"
   ]
  },
  {
   "cell_type": "code",
   "execution_count": 3,
   "metadata": {},
   "outputs": [],
   "source": [
    "cpp_lines = read_lines('./cpp_benchmark.txt')\n",
    "rust_lines = read_lines('./rust_benchmark.txt')\n",
    "python_lines = read_lines('./python_benchmark.txt')"
   ]
  },
  {
   "cell_type": "code",
   "execution_count": 4,
   "metadata": {},
   "outputs": [],
   "source": [
    "dicts = {\n",
    "    'trapezoidal': {\n",
    "        'cpp': defaultdict(dict),\n",
    "        'rust': defaultdict(dict),\n",
    "        'python': defaultdict(dict)\n",
    "    },\n",
    "    'simpson_1_3': {\n",
    "        'cpp': defaultdict(dict),\n",
    "        'rust': defaultdict(dict),\n",
    "        'python': defaultdict(dict)\n",
    "    },\n",
    "    'simpson_3_8': {\n",
    "        'cpp': defaultdict(dict),\n",
    "        'rust': defaultdict(dict),\n",
    "        'python': defaultdict(dict)\n",
    "    }\n",
    "}"
   ]
  },
  {
   "cell_type": "code",
   "execution_count": 5,
   "metadata": {},
   "outputs": [],
   "source": [
    "for line in cpp_lines:\n",
    "    cur_dict = None\n",
    "    if 'Trapezoidal_f64' in line:\n",
    "        cur_dict = dicts['trapezoidal']['cpp']\n",
    "    elif 'Simpson13_f64' in line:\n",
    "        cur_dict = dicts['simpson_1_3']['cpp']\n",
    "    elif 'Simpson38_f64' in line:\n",
    "        cur_dict = dicts['simpson_3_8']['cpp']\n",
    "    if cur_dict is not None:\n",
    "        line_sections = line.split()\n",
    "        num_section = int(line_sections[0][line_sections[0].find('/') + 1:])\n",
    "        duration = float(line_sections[1].split()[0])\n",
    "        cur_dict[num_section] = duration"
   ]
  },
  {
   "cell_type": "code",
   "execution_count": 6,
   "metadata": {},
   "outputs": [],
   "source": [
    "for line in rust_lines:\n",
    "    cur_dict = None\n",
    "    start_idx = None\n",
    "    if 'time:' not in line:\n",
    "        continue\n",
    "    if 'Trapezoidal' in line:\n",
    "        cur_dict = dicts['trapezoidal']['rust']\n",
    "        start_idx = len('f64/Trapezoidal/')\n",
    "    elif 'Simpson\\'s 1/3' in line:\n",
    "        cur_dict = dicts['simpson_1_3']['rust']\n",
    "        start_idx = len('f64/Simpson\\'s 1/3/')\n",
    "    elif 'Simpson\\'s 3/8' in line:\n",
    "        cur_dict = dicts['simpson_3_8']['rust']\n",
    "        start_idx = len('f64/Simpson\\'s 3/8/')\n",
    "    if cur_dict is not None:\n",
    "        num_section = int(line[start_idx:start_idx + 3].strip())\n",
    "        duration = float(line[line.find('[') + 1:].split()[0].strip())\n",
    "        cur_dict[num_section] = duration"
   ]
  },
  {
   "cell_type": "code",
   "execution_count": 7,
   "metadata": {
    "scrolled": true
   },
   "outputs": [],
   "source": [
    "for line in python_lines:\n",
    "    cur_dict = None\n",
    "    start_idx = len('Trapezoidal ')\n",
    "    if 'Trapezoidal' in line:\n",
    "        cur_dict = dicts['trapezoidal']['python']\n",
    "    elif 'Simpson 1/3' in line:\n",
    "        cur_dict = dicts['simpson_1_3']['python']\n",
    "    elif 'Simpson 3/8' in line:\n",
    "        cur_dict = dicts['simpson_3_8']['python']\n",
    "    if cur_dict is not None:\n",
    "        num_section = int(line[start_idx:line.find(':')])\n",
    "        trailing_str = line[line.find(':') + 1:]\n",
    "        duration = float(trailing_str[:trailing_str.find('n')].strip())\n",
    "        cur_dict[num_section] = duration"
   ]
  },
  {
   "cell_type": "code",
   "execution_count": 8,
   "metadata": {},
   "outputs": [],
   "source": [
    "for method in ('trapezoidal', 'simpson_1_3', 'simpson_3_8'):\n",
    "    cur_dict = dicts[method]\n",
    "    data = {key: [ele[1] for ele in sorted(value.items(), key=lambda x: x[0])] for key, value in cur_dict.items()}\n",
    "    df = pd.DataFrame(data=data)\n",
    "    df.to_csv('./{0}.csv'.format(method))"
   ]
  }
 ],
 "metadata": {
  "kernelspec": {
   "display_name": "Python 3",
   "language": "python",
   "name": "python3"
  },
  "language_info": {
   "codemirror_mode": {
    "name": "ipython",
    "version": 3
   },
   "file_extension": ".py",
   "mimetype": "text/x-python",
   "name": "python",
   "nbconvert_exporter": "python",
   "pygments_lexer": "ipython3",
   "version": "3.8.1"
  }
 },
 "nbformat": 4,
 "nbformat_minor": 4
}
